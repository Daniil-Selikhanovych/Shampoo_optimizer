{
 "cells": [
  {
   "cell_type": "markdown",
   "metadata": {},
   "source": [
    "# Simple training on Iris dataset"
   ]
  },
  {
   "cell_type": "code",
   "execution_count": 3,
   "metadata": {},
   "outputs": [
    {
     "name": "stdout",
     "output_type": "stream",
     "text": [
      "2.1.0-rc1\n"
     ]
    }
   ],
   "source": [
    "from matrix_square_root_power import *\n",
    "from shampoo_optimizer import *\n",
    "import tensorflow as tf\n",
    "from tensorflow import keras\n",
    "\n",
    "import numpy as np\n",
    "import matplotlib.pyplot as plt\n",
    "import os\n",
    "\n",
    "print(tf.__version__)"
   ]
  },
  {
   "cell_type": "markdown",
   "metadata": {},
   "source": [
    "## Loading data"
   ]
  },
  {
   "cell_type": "code",
   "execution_count": 4,
   "metadata": {},
   "outputs": [
    {
     "name": "stdout",
     "output_type": "stream",
     "text": [
      "Local copy of the dataset file: /home/daniil/.keras/datasets/iris_training.csv\n"
     ]
    }
   ],
   "source": [
    "train_dataset_url = \"https://storage.googleapis.com/download.tensorflow.org/data/iris_training.csv\"\n",
    "\n",
    "train_dataset_fp = tf.keras.utils.get_file(fname=os.path.basename(train_dataset_url),\n",
    "                                           origin=train_dataset_url)\n",
    "\n",
    "print(\"Local copy of the dataset file: {}\".format(train_dataset_fp))"
   ]
  },
  {
   "cell_type": "code",
   "execution_count": 5,
   "metadata": {},
   "outputs": [
    {
     "name": "stdout",
     "output_type": "stream",
     "text": [
      "Features: ['sepal_length', 'sepal_width', 'petal_length', 'petal_width']\n",
      "Label: species\n"
     ]
    }
   ],
   "source": [
    "column_names = ['sepal_length', 'sepal_width', 'petal_length', 'petal_width', 'species']\n",
    "\n",
    "feature_names = column_names[:-1]\n",
    "label_name = column_names[-1]\n",
    "\n",
    "print(\"Features: {}\".format(feature_names))\n",
    "print(\"Label: {}\".format(label_name))"
   ]
  },
  {
   "cell_type": "code",
   "execution_count": 6,
   "metadata": {},
   "outputs": [
    {
     "data": {
      "text/plain": [
       "'/home/daniil/.keras/datasets/iris_training.csv'"
      ]
     },
     "execution_count": 6,
     "metadata": {},
     "output_type": "execute_result"
    }
   ],
   "source": [
    "train_dataset_fp"
   ]
  },
  {
   "cell_type": "code",
   "execution_count": 7,
   "metadata": {},
   "outputs": [],
   "source": [
    "batch_size = 32\n",
    "\n",
    "train_dataset = tf.data.experimental.make_csv_dataset(\n",
    "    train_dataset_fp,\n",
    "    batch_size,\n",
    "    column_names=column_names,\n",
    "    label_name=label_name,\n",
    "    num_epochs=1)"
   ]
  },
  {
   "cell_type": "code",
   "execution_count": 8,
   "metadata": {},
   "outputs": [
    {
     "data": {
      "text/plain": [
       "<PrefetchDataset shapes: (OrderedDict([(sepal_length, (None,)), (sepal_width, (None,)), (petal_length, (None,)), (petal_width, (None,))]), (None,)), types: (OrderedDict([(sepal_length, tf.float32), (sepal_width, tf.float32), (petal_length, tf.float32), (petal_width, tf.float32)]), tf.int32)>"
      ]
     },
     "execution_count": 8,
     "metadata": {},
     "output_type": "execute_result"
    }
   ],
   "source": [
    "train_dataset"
   ]
  },
  {
   "cell_type": "code",
   "execution_count": 9,
   "metadata": {},
   "outputs": [
    {
     "name": "stdout",
     "output_type": "stream",
     "text": [
      "OrderedDict([('sepal_length', <tf.Tensor: shape=(32,), dtype=float32, numpy=\n",
      "array([5.7, 6.1, 5. , 6. , 5.1, 5. , 4.5, 5.5, 5.3, 5. , 5.5, 4.9, 5.2,\n",
      "       6.3, 4.6, 5.7, 6.2, 6.6, 6.1, 6.8, 5.2, 6.6, 6.4, 5.7, 4.7, 5.4,\n",
      "       4.6, 6.3, 6.5, 6.9, 7.7, 6.3], dtype=float32)>), ('sepal_width', <tf.Tensor: shape=(32,), dtype=float32, numpy=\n",
      "array([2.8, 2.9, 3.6, 2.9, 2.5, 3.5, 2.3, 3.5, 3.7, 2.3, 2.6, 3.1, 3.4,\n",
      "       2.7, 3.1, 4.4, 2.8, 3. , 2.6, 3. , 2.7, 2.9, 2.8, 3. , 3.2, 3.9,\n",
      "       3.2, 2.3, 3. , 3.1, 2.6, 2.5], dtype=float32)>), ('petal_length', <tf.Tensor: shape=(32,), dtype=float32, numpy=\n",
      "array([4.5, 4.7, 1.4, 4.5, 3. , 1.6, 1.3, 1.3, 1.5, 3.3, 4.4, 1.5, 1.4,\n",
      "       4.9, 1.5, 1.5, 4.8, 4.4, 5.6, 5.5, 3.9, 4.6, 5.6, 4.2, 1.6, 1.7,\n",
      "       1.4, 4.4, 5.5, 4.9, 6.9, 5. ], dtype=float32)>), ('petal_width', <tf.Tensor: shape=(32,), dtype=float32, numpy=\n",
      "array([1.3, 1.4, 0.2, 1.5, 1.1, 0.6, 0.3, 0.2, 0.2, 1. , 1.2, 0.1, 0.2,\n",
      "       1.8, 0.2, 0.4, 1.8, 1.4, 1.4, 2.1, 1.4, 1.3, 2.1, 1.2, 0.2, 0.4,\n",
      "       0.2, 1.3, 1.8, 1.5, 2.3, 1.9], dtype=float32)>)])\n"
     ]
    }
   ],
   "source": [
    "features, labels = next(iter(train_dataset))\n",
    "\n",
    "print(features)"
   ]
  },
  {
   "cell_type": "code",
   "execution_count": 10,
   "metadata": {},
   "outputs": [
    {
     "data": {
      "image/png": "[encoded data removed]",
      "text/plain": [
       "<Figure size 432x288 with 1 Axes>"
      ]
     },
     "metadata": {
      "needs_background": "light"
     },
     "output_type": "display_data"
    }
   ],
   "source": [
    "plt.scatter(features['petal_length'],\n",
    "            features['sepal_length'],\n",
    "            c=labels,\n",
    "            cmap='viridis')\n",
    "\n",
    "plt.xlabel(\"Petal length\")\n",
    "plt.ylabel(\"Sepal length\")\n",
    "plt.show()"
   ]
  },
  {
   "cell_type": "code",
   "execution_count": 11,
   "metadata": {},
   "outputs": [],
   "source": [
    "def pack_features_vector(features, labels):\n",
    "  \"\"\"Pack the features into a single array.\"\"\"\n",
    "  features = tf.stack(list(features.values()), axis=1)\n",
    "  return features, labels"
   ]
  },
  {
   "cell_type": "code",
   "execution_count": 12,
   "metadata": {},
   "outputs": [
    {
     "name": "stdout",
     "output_type": "stream",
     "text": [
      "WARNING:tensorflow:AutoGraph could not transform <function pack_features_vector at 0x7f22040a8820> and will run it as-is.\n",
      "Please report this to the TensorFlow team. When filing the bug, set the verbosity to 10 (on Linux, `export AUTOGRAPH_VERBOSITY=10`) and attach the full output.\n",
      "Cause: 'arguments' object has no attribute 'defaults'\n"
     ]
    },
    {
     "name": "stderr",
     "output_type": "stream",
     "text": [
      "WARNING:tensorflow:AutoGraph could not transform <function pack_features_vector at 0x7f22040a8820> and will run it as-is.\n",
      "Please report this to the TensorFlow team. When filing the bug, set the verbosity to 10 (on Linux, `export AUTOGRAPH_VERBOSITY=10`) and attach the full output.\n",
      "Cause: 'arguments' object has no attribute 'defaults'\n"
     ]
    },
    {
     "name": "stdout",
     "output_type": "stream",
     "text": [
      "WARNING: AutoGraph could not transform <function pack_features_vector at 0x7f22040a8820> and will run it as-is.\n",
      "Please report this to the TensorFlow team. When filing the bug, set the verbosity to 10 (on Linux, `export AUTOGRAPH_VERBOSITY=10`) and attach the full output.\n",
      "Cause: 'arguments' object has no attribute 'defaults'\n"
     ]
    }
   ],
   "source": [
    "train_dataset = train_dataset.map(pack_features_vector)"
   ]
  },
  {
   "cell_type": "code",
   "execution_count": 13,
   "metadata": {},
   "outputs": [
    {
     "name": "stdout",
     "output_type": "stream",
     "text": [
      "tf.Tensor(\n",
      "[[5.4 3.4 1.5 0.4]\n",
      " [4.8 3.1 1.6 0.2]\n",
      " [4.7 3.2 1.6 0.2]\n",
      " [4.8 3.  1.4 0.1]\n",
      " [6.1 2.9 4.7 1.4]], shape=(5, 4), dtype=float32)\n"
     ]
    }
   ],
   "source": [
    "features, labels = next(iter(train_dataset))\n",
    "\n",
    "print(features[:5])"
   ]
  },
  {
   "cell_type": "code",
   "execution_count": 14,
   "metadata": {},
   "outputs": [
    {
     "data": {
      "text/plain": [
       "TensorShape([32, 4])"
      ]
     },
     "execution_count": 14,
     "metadata": {},
     "output_type": "execute_result"
    }
   ],
   "source": [
    "features.shape"
   ]
  },
  {
   "cell_type": "code",
   "execution_count": 15,
   "metadata": {},
   "outputs": [],
   "source": [
    "def loss(model, x, y):\n",
    "  y_ = model(x)\n",
    "\n",
    "  return loss_object(y_true=y, y_pred=y_)\n",
    "\n",
    "def grad(model, inputs, targets):\n",
    "  with tf.GradientTape() as tape:\n",
    "    loss_value = loss(model, inputs, targets)\n",
    "  return loss_value, tape.gradient(loss_value, model.trainable_variables)"
   ]
  },
  {
   "cell_type": "markdown",
   "metadata": {},
   "source": [
    "# Training loop"
   ]
  },
  {
   "cell_type": "code",
   "execution_count": 16,
   "metadata": {},
   "outputs": [
    {
     "name": "stdout",
     "output_type": "stream",
     "text": [
      "4\n",
      "Epoch 000: Loss: 1.159, Accuracy: 64.167%\n",
      "4\n",
      "Epoch 001: Loss: 0.558, Accuracy: 76.667%\n",
      "4\n",
      "Epoch 002: Loss: 0.501, Accuracy: 75.000%\n",
      "4\n",
      "Epoch 003: Loss: 0.495, Accuracy: 84.167%\n",
      "4\n",
      "Epoch 004: Loss: 0.368, Accuracy: 81.667%\n",
      "4\n",
      "Epoch 005: Loss: 0.292, Accuracy: 93.333%\n",
      "4\n",
      "Epoch 006: Loss: 0.365, Accuracy: 81.667%\n",
      "4\n",
      "Epoch 007: Loss: 0.313, Accuracy: 90.000%\n",
      "4\n",
      "Epoch 008: Loss: 0.225, Accuracy: 97.500%\n",
      "4\n",
      "Epoch 009: Loss: 0.225, Accuracy: 94.167%\n",
      "4\n",
      "Epoch 010: Loss: 0.178, Accuracy: 98.333%\n",
      "4\n",
      "Epoch 011: Loss: 0.272, Accuracy: 88.333%\n",
      "4\n",
      "Epoch 012: Loss: 0.229, Accuracy: 95.000%\n",
      "4\n",
      "Epoch 013: Loss: 0.230, Accuracy: 92.500%\n",
      "4\n",
      "Epoch 014: Loss: 0.178, Accuracy: 98.333%\n",
      "4\n",
      "Epoch 015: Loss: 0.187, Accuracy: 95.000%\n",
      "4\n",
      "Epoch 016: Loss: 0.136, Accuracy: 98.333%\n",
      "4\n",
      "Epoch 017: Loss: 0.195, Accuracy: 94.167%\n",
      "4\n",
      "Epoch 018: Loss: 0.240, Accuracy: 96.667%\n",
      "4\n",
      "Epoch 019: Loss: 0.188, Accuracy: 95.833%\n",
      "4\n",
      "Epoch 020: Loss: 0.137, Accuracy: 98.333%\n",
      "4\n",
      "Epoch 021: Loss: 0.106, Accuracy: 99.167%\n",
      "4\n",
      "Epoch 022: Loss: 0.120, Accuracy: 98.333%\n",
      "4\n",
      "Epoch 023: Loss: 0.104, Accuracy: 99.167%\n",
      "4\n",
      "Epoch 024: Loss: 0.102, Accuracy: 98.333%\n",
      "4\n",
      "Epoch 025: Loss: 0.110, Accuracy: 99.167%\n",
      "4\n",
      "Epoch 026: Loss: 0.090, Accuracy: 99.167%\n",
      "4\n",
      "Epoch 027: Loss: 0.088, Accuracy: 98.333%\n",
      "4\n",
      "Epoch 028: Loss: 0.081, Accuracy: 98.333%\n",
      "4\n",
      "Epoch 029: Loss: 0.100, Accuracy: 98.333%\n",
      "4\n",
      "Epoch 030: Loss: 0.086, Accuracy: 98.333%\n",
      "4\n",
      "Epoch 031: Loss: 0.081, Accuracy: 99.167%\n",
      "4\n",
      "Epoch 032: Loss: 0.080, Accuracy: 98.333%\n",
      "4\n",
      "Epoch 033: Loss: 0.087, Accuracy: 98.333%\n",
      "4\n",
      "Epoch 034: Loss: 0.090, Accuracy: 99.167%\n",
      "4\n",
      "Epoch 035: Loss: 0.075, Accuracy: 98.333%\n",
      "4\n",
      "Epoch 036: Loss: 0.087, Accuracy: 98.333%\n",
      "4\n",
      "Epoch 037: Loss: 0.078, Accuracy: 98.333%\n",
      "4\n",
      "Epoch 038: Loss: 0.078, Accuracy: 99.167%\n",
      "4\n",
      "Epoch 039: Loss: 0.077, Accuracy: 98.333%\n",
      "4\n",
      "Epoch 040: Loss: 0.076, Accuracy: 97.500%\n",
      "4\n",
      "Epoch 041: Loss: 0.081, Accuracy: 97.500%\n",
      "4\n",
      "Epoch 042: Loss: 0.078, Accuracy: 99.167%\n",
      "4\n",
      "Epoch 043: Loss: 0.075, Accuracy: 97.500%\n",
      "4\n",
      "Epoch 044: Loss: 0.077, Accuracy: 97.500%\n",
      "4\n",
      "Epoch 045: Loss: 0.078, Accuracy: 97.500%\n",
      "4\n",
      "Epoch 046: Loss: 0.138, Accuracy: 98.333%\n",
      "4\n",
      "Epoch 047: Loss: 0.112, Accuracy: 98.333%\n",
      "4\n",
      "Epoch 048: Loss: 0.068, Accuracy: 98.333%\n",
      "4\n",
      "Epoch 049: Loss: 0.067, Accuracy: 98.333%\n",
      "4\n",
      "Epoch 050: Loss: 0.072, Accuracy: 98.333%\n"
     ]
    }
   ],
   "source": [
    "model = tf.keras.Sequential([\n",
    "  tf.keras.layers.Dense(10, activation=tf.nn.relu, input_shape=(4,)),  # input shape required\n",
    "  tf.keras.layers.Dense(10, activation=tf.nn.relu),\n",
    "  tf.keras.layers.Dense(3)\n",
    "])\n",
    "\n",
    "loss_object = tf.keras.losses.SparseCategoricalCrossentropy(from_logits=True)\n",
    "optimizer = ShampooOptimizer(learning_rate=0.1, epsilon=1e-4)\n",
    "\n",
    "shampoo_train_loss_results = []\n",
    "shampoo_train_accuracy_results = []\n",
    "\n",
    "num_epochs = 51\n",
    "\n",
    "for epoch in range(num_epochs):\n",
    "  epoch_loss_avg = tf.keras.metrics.Mean()\n",
    "  epoch_accuracy = tf.keras.metrics.SparseCategoricalAccuracy()\n",
    "\n",
    "  # Training loop - using batches of 32\n",
    "  i = 0\n",
    "  for x, y in train_dataset:\n",
    "    i += 1\n",
    "    # Optimize the model\n",
    "    loss_value, grads = grad(model, x, y)\n",
    "    optimizer.apply_gradients(zip(grads, model.trainable_variables))\n",
    "\n",
    "    # Track progress\n",
    "    epoch_loss_avg(loss_value)  # Add current batch loss\n",
    "    # Compare predicted label to actual label\n",
    "    epoch_accuracy(y, model(x))\n",
    "  print(i)\n",
    "\n",
    "  # End epoch\n",
    "  shampoo_train_loss_results.append(epoch_loss_avg.result())\n",
    "  shampoo_train_accuracy_results.append(epoch_accuracy.result())\n",
    "\n",
    "  print(\"Epoch {:03d}: Loss: {:.3f}, Accuracy: {:.3%}\".format(epoch,\n",
    "                                                                epoch_loss_avg.result(),\n",
    "                                                                epoch_accuracy.result()))\n"
   ]
  },
  {
   "cell_type": "code",
   "execution_count": 17,
   "metadata": {},
   "outputs": [
    {
     "name": "stdout",
     "output_type": "stream",
     "text": [
      "4\n",
      "Epoch 000: Loss: 1.214, Accuracy: 48.333%\n",
      "4\n",
      "Epoch 001: Loss: 0.865, Accuracy: 70.000%\n",
      "4\n",
      "Epoch 002: Loss: 0.637, Accuracy: 73.333%\n",
      "4\n",
      "Epoch 003: Loss: 0.525, Accuracy: 73.333%\n",
      "4\n",
      "Epoch 004: Loss: 0.421, Accuracy: 84.167%\n",
      "4\n",
      "Epoch 005: Loss: 0.465, Accuracy: 82.500%\n",
      "4\n",
      "Epoch 006: Loss: 0.377, Accuracy: 84.167%\n",
      "4\n",
      "Epoch 007: Loss: 0.395, Accuracy: 88.333%\n",
      "4\n",
      "Epoch 008: Loss: 0.278, Accuracy: 83.333%\n",
      "4\n",
      "Epoch 009: Loss: 0.455, Accuracy: 88.333%\n",
      "4\n",
      "Epoch 010: Loss: 0.261, Accuracy: 95.000%\n",
      "4\n",
      "Epoch 011: Loss: 0.228, Accuracy: 96.667%\n",
      "4\n",
      "Epoch 012: Loss: 0.231, Accuracy: 92.500%\n",
      "4\n",
      "Epoch 013: Loss: 0.222, Accuracy: 93.333%\n",
      "4\n",
      "Epoch 014: Loss: 0.184, Accuracy: 96.667%\n",
      "4\n",
      "Epoch 015: Loss: 0.174, Accuracy: 96.667%\n",
      "4\n",
      "Epoch 016: Loss: 0.197, Accuracy: 93.333%\n",
      "4\n",
      "Epoch 017: Loss: 0.241, Accuracy: 91.667%\n",
      "4\n",
      "Epoch 018: Loss: 0.166, Accuracy: 95.833%\n",
      "4\n",
      "Epoch 019: Loss: 0.149, Accuracy: 95.000%\n",
      "4\n",
      "Epoch 020: Loss: 0.162, Accuracy: 93.333%\n",
      "4\n",
      "Epoch 021: Loss: 0.133, Accuracy: 96.667%\n",
      "4\n",
      "Epoch 022: Loss: 0.126, Accuracy: 97.500%\n",
      "4\n",
      "Epoch 023: Loss: 0.183, Accuracy: 96.667%\n",
      "4\n",
      "Epoch 024: Loss: 0.116, Accuracy: 95.833%\n",
      "4\n",
      "Epoch 025: Loss: 0.118, Accuracy: 95.833%\n",
      "4\n",
      "Epoch 026: Loss: 0.108, Accuracy: 97.500%\n",
      "4\n",
      "Epoch 027: Loss: 0.110, Accuracy: 96.667%\n",
      "4\n",
      "Epoch 028: Loss: 0.112, Accuracy: 97.500%\n",
      "4\n",
      "Epoch 029: Loss: 0.100, Accuracy: 97.500%\n",
      "4\n",
      "Epoch 030: Loss: 0.189, Accuracy: 96.667%\n",
      "4\n",
      "Epoch 031: Loss: 0.112, Accuracy: 97.500%\n",
      "4\n",
      "Epoch 032: Loss: 0.100, Accuracy: 98.333%\n",
      "4\n",
      "Epoch 033: Loss: 0.099, Accuracy: 97.500%\n",
      "4\n",
      "Epoch 034: Loss: 0.090, Accuracy: 97.500%\n",
      "4\n",
      "Epoch 035: Loss: 0.139, Accuracy: 95.833%\n",
      "4\n",
      "Epoch 036: Loss: 0.105, Accuracy: 96.667%\n",
      "4\n",
      "Epoch 037: Loss: 0.111, Accuracy: 97.500%\n",
      "4\n",
      "Epoch 038: Loss: 0.121, Accuracy: 96.667%\n",
      "4\n",
      "Epoch 039: Loss: 0.087, Accuracy: 96.667%\n",
      "4\n",
      "Epoch 040: Loss: 0.097, Accuracy: 95.833%\n",
      "4\n",
      "Epoch 041: Loss: 0.089, Accuracy: 98.333%\n",
      "4\n",
      "Epoch 042: Loss: 0.092, Accuracy: 97.500%\n",
      "4\n",
      "Epoch 043: Loss: 0.105, Accuracy: 98.333%\n",
      "4\n",
      "Epoch 044: Loss: 0.139, Accuracy: 95.833%\n",
      "4\n",
      "Epoch 045: Loss: 0.115, Accuracy: 98.333%\n",
      "4\n",
      "Epoch 046: Loss: 0.084, Accuracy: 98.333%\n",
      "4\n",
      "Epoch 047: Loss: 0.081, Accuracy: 97.500%\n",
      "4\n",
      "Epoch 048: Loss: 0.082, Accuracy: 97.500%\n",
      "4\n",
      "Epoch 049: Loss: 0.096, Accuracy: 97.500%\n",
      "4\n",
      "Epoch 050: Loss: 0.097, Accuracy: 96.667%\n"
     ]
    }
   ],
   "source": [
    "model = tf.keras.Sequential([\n",
    "  tf.keras.layers.Dense(10, activation=tf.nn.relu, input_shape=(4,)),  # input shape required\n",
    "  tf.keras.layers.Dense(10, activation=tf.nn.relu),\n",
    "  tf.keras.layers.Dense(3)\n",
    "])\n",
    "\n",
    "loss_object = tf.keras.losses.SparseCategoricalCrossentropy(from_logits=True)\n",
    "optimizer = ShampooOptimizer(learning_rate=0.1, epsilon=1e-3)\n",
    "\n",
    "shampoo_train_loss_results_eps_1_e_3 = []\n",
    "shampoo_train_accuracy_results_eps_1_e_3 = []\n",
    "\n",
    "num_epochs = 51\n",
    "\n",
    "for epoch in range(num_epochs):\n",
    "  epoch_loss_avg = tf.keras.metrics.Mean()\n",
    "  epoch_accuracy = tf.keras.metrics.SparseCategoricalAccuracy()\n",
    "\n",
    "  # Training loop - using batches of 32\n",
    "  i = 0\n",
    "  for x, y in train_dataset:\n",
    "    i += 1\n",
    "    # Optimize the model\n",
    "    loss_value, grads = grad(model, x, y)\n",
    "    optimizer.apply_gradients(zip(grads, model.trainable_variables))\n",
    "\n",
    "    # Track progress\n",
    "    epoch_loss_avg(loss_value)  # Add current batch loss\n",
    "    # Compare predicted label to actual label\n",
    "    epoch_accuracy(y, model(x))\n",
    "  print(i)\n",
    "\n",
    "  # End epoch\n",
    "  shampoo_train_loss_results_eps_1_e_3.append(epoch_loss_avg.result())\n",
    "  shampoo_train_accuracy_results_eps_1_e_3.append(epoch_accuracy.result())\n",
    "\n",
    "  print(\"Epoch {:03d}: Loss: {:.3f}, Accuracy: {:.3%}\".format(epoch,\n",
    "                                                                epoch_loss_avg.result(),\n",
    "                                                                epoch_accuracy.result()))"
   ]
  },
  {
   "cell_type": "code",
   "execution_count": 18,
   "metadata": {},
   "outputs": [
    {
     "name": "stdout",
     "output_type": "stream",
     "text": [
      "4\n",
      "Epoch 000: Loss: 0.788, Accuracy: 67.500%\n",
      "4\n",
      "Epoch 001: Loss: 0.617, Accuracy: 78.333%\n",
      "4\n",
      "Epoch 002: Loss: 0.405, Accuracy: 83.333%\n",
      "4\n",
      "Epoch 003: Loss: 0.370, Accuracy: 85.000%\n",
      "4\n",
      "Epoch 004: Loss: 0.412, Accuracy: 84.167%\n",
      "4\n",
      "Epoch 005: Loss: 0.278, Accuracy: 96.667%\n",
      "4\n",
      "Epoch 006: Loss: 0.370, Accuracy: 87.500%\n",
      "4\n",
      "Epoch 007: Loss: 0.221, Accuracy: 97.500%\n",
      "4\n",
      "Epoch 008: Loss: 0.204, Accuracy: 95.833%\n",
      "4\n",
      "Epoch 009: Loss: 0.181, Accuracy: 98.333%\n",
      "4\n",
      "Epoch 010: Loss: 0.158, Accuracy: 98.333%\n",
      "4\n",
      "Epoch 011: Loss: 0.196, Accuracy: 93.333%\n",
      "4\n",
      "Epoch 012: Loss: 0.148, Accuracy: 97.500%\n",
      "4\n",
      "Epoch 013: Loss: 0.123, Accuracy: 99.167%\n",
      "4\n",
      "Epoch 014: Loss: 0.134, Accuracy: 96.667%\n",
      "4\n",
      "Epoch 015: Loss: 0.130, Accuracy: 94.167%\n",
      "4\n",
      "Epoch 016: Loss: 0.200, Accuracy: 95.000%\n",
      "4\n",
      "Epoch 017: Loss: 0.103, Accuracy: 97.500%\n",
      "4\n",
      "Epoch 018: Loss: 0.141, Accuracy: 97.500%\n",
      "4\n",
      "Epoch 019: Loss: 0.120, Accuracy: 99.167%\n",
      "4\n",
      "Epoch 020: Loss: 0.093, Accuracy: 97.500%\n",
      "4\n",
      "Epoch 021: Loss: 0.087, Accuracy: 98.333%\n",
      "4\n",
      "Epoch 022: Loss: 0.097, Accuracy: 95.833%\n",
      "4\n",
      "Epoch 023: Loss: 0.099, Accuracy: 98.333%\n",
      "4\n",
      "Epoch 024: Loss: 0.096, Accuracy: 96.667%\n",
      "4\n",
      "Epoch 025: Loss: 0.118, Accuracy: 97.500%\n",
      "4\n",
      "Epoch 026: Loss: 0.078, Accuracy: 99.167%\n",
      "4\n",
      "Epoch 027: Loss: 0.074, Accuracy: 98.333%\n",
      "4\n",
      "Epoch 028: Loss: 0.094, Accuracy: 97.500%\n",
      "4\n",
      "Epoch 029: Loss: 0.081, Accuracy: 98.333%\n",
      "4\n",
      "Epoch 030: Loss: 0.075, Accuracy: 97.500%\n",
      "4\n",
      "Epoch 031: Loss: 0.089, Accuracy: 97.500%\n",
      "4\n",
      "Epoch 032: Loss: 0.106, Accuracy: 99.167%\n",
      "4\n",
      "Epoch 033: Loss: 0.122, Accuracy: 97.500%\n",
      "4\n",
      "Epoch 034: Loss: 0.070, Accuracy: 99.167%\n",
      "4\n",
      "Epoch 035: Loss: 0.072, Accuracy: 99.167%\n",
      "4\n",
      "Epoch 036: Loss: 0.074, Accuracy: 99.167%\n",
      "4\n",
      "Epoch 037: Loss: 0.068, Accuracy: 98.333%\n",
      "4\n",
      "Epoch 038: Loss: 0.070, Accuracy: 98.333%\n",
      "4\n",
      "Epoch 039: Loss: 0.069, Accuracy: 98.333%\n",
      "4\n",
      "Epoch 040: Loss: 0.073, Accuracy: 97.500%\n",
      "4\n",
      "Epoch 041: Loss: 0.093, Accuracy: 98.333%\n",
      "4\n",
      "Epoch 042: Loss: 0.086, Accuracy: 98.333%\n",
      "4\n",
      "Epoch 043: Loss: 0.060, Accuracy: 99.167%\n",
      "4\n",
      "Epoch 044: Loss: 0.091, Accuracy: 97.500%\n",
      "4\n",
      "Epoch 045: Loss: 0.070, Accuracy: 98.333%\n",
      "4\n",
      "Epoch 046: Loss: 0.087, Accuracy: 99.167%\n",
      "4\n",
      "Epoch 047: Loss: 0.061, Accuracy: 99.167%\n",
      "4\n",
      "Epoch 048: Loss: 0.066, Accuracy: 97.500%\n",
      "4\n",
      "Epoch 049: Loss: 0.069, Accuracy: 98.333%\n",
      "4\n",
      "Epoch 050: Loss: 0.065, Accuracy: 99.167%\n"
     ]
    }
   ],
   "source": [
    "model = tf.keras.Sequential([\n",
    "  tf.keras.layers.Dense(10, activation=tf.nn.relu, input_shape=(4,)),  # input shape required\n",
    "  tf.keras.layers.Dense(10, activation=tf.nn.relu),\n",
    "  tf.keras.layers.Dense(3)\n",
    "])\n",
    "\n",
    "loss_object = tf.keras.losses.SparseCategoricalCrossentropy(from_logits=True)\n",
    "optimizer = ShampooOptimizer(learning_rate=0.1, epsilon=1e-5)\n",
    "\n",
    "shampoo_train_loss_results_eps_1_e_5 = []\n",
    "shampoo_train_accuracy_results_eps_1_e_5 = []\n",
    "\n",
    "num_epochs = 51\n",
    "\n",
    "for epoch in range(num_epochs):\n",
    "  epoch_loss_avg = tf.keras.metrics.Mean()\n",
    "  epoch_accuracy = tf.keras.metrics.SparseCategoricalAccuracy()\n",
    "\n",
    "  # Training loop - using batches of 32\n",
    "  i = 0\n",
    "  for x, y in train_dataset:\n",
    "    i += 1\n",
    "    # Optimize the model\n",
    "    loss_value, grads = grad(model, x, y)\n",
    "    optimizer.apply_gradients(zip(grads, model.trainable_variables))\n",
    "\n",
    "    # Track progress\n",
    "    epoch_loss_avg(loss_value)  # Add current batch loss\n",
    "    # Compare predicted label to actual label\n",
    "    epoch_accuracy(y, model(x))\n",
    "  print(i)\n",
    "\n",
    "  # End epoch\n",
    "  shampoo_train_loss_results_eps_1_e_5.append(epoch_loss_avg.result())\n",
    "  shampoo_train_accuracy_results_eps_1_e_5.append(epoch_accuracy.result())\n",
    "\n",
    "  print(\"Epoch {:03d}: Loss: {:.3f}, Accuracy: {:.3%}\".format(epoch,\n",
    "                                                                epoch_loss_avg.result(),\n",
    "                                                                epoch_accuracy.result()))"
   ]
  },
  {
   "cell_type": "code",
   "execution_count": 19,
   "metadata": {},
   "outputs": [
    {
     "data": {
      "text/plain": [
       "0.06469962"
      ]
     },
     "execution_count": 19,
     "metadata": {},
     "output_type": "execute_result"
    }
   ],
   "source": [
    "epoch_loss_avg.result().numpy()"
   ]
  },
  {
   "cell_type": "code",
   "execution_count": 29,
   "metadata": {},
   "outputs": [
    {
     "name": "stdout",
     "output_type": "stream",
     "text": [
      "Epoch 000: Loss: 1.299, Accuracy: 69.167%\n",
      "Epoch 001: Loss: 0.562, Accuracy: 80.833%\n",
      "Epoch 002: Loss: 0.458, Accuracy: 75.833%\n",
      "Epoch 003: Loss: 0.445, Accuracy: 85.000%\n",
      "Epoch 004: Loss: 0.415, Accuracy: 85.833%\n",
      "Epoch 005: Loss: 0.450, Accuracy: 79.167%\n",
      "Epoch 006: Loss: 0.407, Accuracy: 80.000%\n",
      "Epoch 007: Loss: 0.457, Accuracy: 78.333%\n",
      "Epoch 008: Loss: 0.405, Accuracy: 90.833%\n",
      "Epoch 009: Loss: 0.347, Accuracy: 85.000%\n",
      "Epoch 010: Loss: 0.424, Accuracy: 75.000%\n",
      "Epoch 011: Loss: 0.485, Accuracy: 80.833%\n",
      "Epoch 012: Loss: 0.320, Accuracy: 91.667%\n",
      "Epoch 013: Loss: 0.372, Accuracy: 76.667%\n",
      "Epoch 014: Loss: 0.412, Accuracy: 74.167%\n",
      "Epoch 015: Loss: 0.339, Accuracy: 90.000%\n",
      "Epoch 016: Loss: 0.268, Accuracy: 90.833%\n",
      "Epoch 017: Loss: 0.235, Accuracy: 95.000%\n",
      "Epoch 018: Loss: 0.555, Accuracy: 75.000%\n",
      "Epoch 019: Loss: 0.289, Accuracy: 92.500%\n",
      "Epoch 020: Loss: 0.428, Accuracy: 83.333%\n",
      "Epoch 021: Loss: 0.289, Accuracy: 90.833%\n",
      "Epoch 022: Loss: 0.819, Accuracy: 72.500%\n",
      "Epoch 023: Loss: 0.436, Accuracy: 70.833%\n",
      "Epoch 024: Loss: 0.431, Accuracy: 71.667%\n",
      "Epoch 025: Loss: 0.418, Accuracy: 74.167%\n",
      "Epoch 026: Loss: 0.415, Accuracy: 71.667%\n",
      "Epoch 027: Loss: 0.411, Accuracy: 72.500%\n",
      "Epoch 028: Loss: 0.399, Accuracy: 80.000%\n",
      "Epoch 029: Loss: 0.348, Accuracy: 94.167%\n",
      "Epoch 030: Loss: 0.290, Accuracy: 92.500%\n",
      "Epoch 031: Loss: 0.243, Accuracy: 90.833%\n",
      "Epoch 032: Loss: 0.469, Accuracy: 80.833%\n",
      "Epoch 033: Loss: 0.425, Accuracy: 79.167%\n",
      "Epoch 034: Loss: 0.380, Accuracy: 84.167%\n",
      "Epoch 035: Loss: 0.319, Accuracy: 88.333%\n",
      "Epoch 036: Loss: 0.374, Accuracy: 82.500%\n",
      "Epoch 037: Loss: 0.440, Accuracy: 93.333%\n",
      "Epoch 038: Loss: 0.299, Accuracy: 91.667%\n",
      "Epoch 039: Loss: 0.738, Accuracy: 75.000%\n",
      "Epoch 040: Loss: 0.404, Accuracy: 78.333%\n",
      "Epoch 041: Loss: 0.399, Accuracy: 82.500%\n",
      "Epoch 042: Loss: 0.396, Accuracy: 84.167%\n",
      "Epoch 043: Loss: 0.380, Accuracy: 82.500%\n",
      "Epoch 044: Loss: 0.354, Accuracy: 85.833%\n",
      "Epoch 045: Loss: 0.304, Accuracy: 95.000%\n",
      "Epoch 046: Loss: 0.278, Accuracy: 91.667%\n",
      "Epoch 047: Loss: 0.237, Accuracy: 91.667%\n",
      "Epoch 048: Loss: 0.227, Accuracy: 87.500%\n",
      "Epoch 049: Loss: 0.651, Accuracy: 75.000%\n",
      "Epoch 050: Loss: 0.304, Accuracy: 95.833%\n"
     ]
    }
   ],
   "source": [
    "model = tf.keras.Sequential([\n",
    "  tf.keras.layers.Dense(10, activation=tf.nn.relu, input_shape=(4,)),  # input shape required\n",
    "  tf.keras.layers.Dense(10, activation=tf.nn.relu),\n",
    "  tf.keras.layers.Dense(3)\n",
    "])\n",
    "\n",
    "loss_object = tf.keras.losses.SparseCategoricalCrossentropy(from_logits=True)\n",
    "optimizer = tf.keras.optimizers.SGD(learning_rate=0.1)\n",
    "\n",
    "sgd_train_loss_results = []\n",
    "sgd_train_accuracy_results = []\n",
    "\n",
    "num_epochs = 51\n",
    "\n",
    "for epoch in range(num_epochs):\n",
    "  epoch_loss_avg = tf.keras.metrics.Mean()\n",
    "  epoch_accuracy = tf.keras.metrics.SparseCategoricalAccuracy()\n",
    "\n",
    "  # Training loop - using batches of 32\n",
    "  for x, y in train_dataset:\n",
    "    # Optimize the model\n",
    "    loss_value, grads = grad(model, x, y)\n",
    "    optimizer.apply_gradients(zip(grads, model.trainable_variables))\n",
    "\n",
    "    # Track progress\n",
    "    epoch_loss_avg(loss_value)  # Add current batch loss\n",
    "    # Compare predicted label to actual label\n",
    "    epoch_accuracy(y, model(x))\n",
    "\n",
    "  # End epoch\n",
    "  sgd_train_loss_results.append(epoch_loss_avg.result())\n",
    "  sgd_train_accuracy_results.append(epoch_accuracy.result())\n",
    "\n",
    "  print(\"Epoch {:03d}: Loss: {:.3f}, Accuracy: {:.3%}\".format(epoch,\n",
    "                                                                epoch_loss_avg.result(),\n",
    "                                                                epoch_accuracy.result()))"
   ]
  },
  {
   "cell_type": "code",
   "execution_count": 21,
   "metadata": {},
   "outputs": [
    {
     "name": "stdout",
     "output_type": "stream",
     "text": [
      "Epoch 000: Loss: 2.821, Accuracy: 35.000%\n",
      "Epoch 001: Loss: 1.699, Accuracy: 35.000%\n",
      "Epoch 002: Loss: 1.164, Accuracy: 40.833%\n",
      "Epoch 003: Loss: 1.003, Accuracy: 52.500%\n",
      "Epoch 004: Loss: 0.992, Accuracy: 35.000%\n",
      "Epoch 005: Loss: 1.004, Accuracy: 35.000%\n",
      "Epoch 006: Loss: 0.997, Accuracy: 35.000%\n",
      "Epoch 007: Loss: 0.970, Accuracy: 35.000%\n",
      "Epoch 008: Loss: 0.925, Accuracy: 35.833%\n",
      "Epoch 009: Loss: 0.882, Accuracy: 60.833%\n",
      "Epoch 010: Loss: 0.799, Accuracy: 70.000%\n",
      "Epoch 011: Loss: 0.714, Accuracy: 70.000%\n",
      "Epoch 012: Loss: 0.649, Accuracy: 70.000%\n",
      "Epoch 013: Loss: 0.587, Accuracy: 70.000%\n",
      "Epoch 014: Loss: 0.540, Accuracy: 70.000%\n",
      "Epoch 015: Loss: 0.498, Accuracy: 70.000%\n",
      "Epoch 016: Loss: 0.464, Accuracy: 70.000%\n",
      "Epoch 017: Loss: 0.438, Accuracy: 75.000%\n",
      "Epoch 018: Loss: 0.402, Accuracy: 85.833%\n",
      "Epoch 019: Loss: 0.377, Accuracy: 94.167%\n",
      "Epoch 020: Loss: 0.353, Accuracy: 95.000%\n",
      "Epoch 021: Loss: 0.333, Accuracy: 95.833%\n",
      "Epoch 022: Loss: 0.305, Accuracy: 95.833%\n",
      "Epoch 023: Loss: 0.289, Accuracy: 97.500%\n",
      "Epoch 024: Loss: 0.270, Accuracy: 95.833%\n",
      "Epoch 025: Loss: 0.249, Accuracy: 95.833%\n",
      "Epoch 026: Loss: 0.231, Accuracy: 95.833%\n",
      "Epoch 027: Loss: 0.214, Accuracy: 97.500%\n",
      "Epoch 028: Loss: 0.202, Accuracy: 97.500%\n",
      "Epoch 029: Loss: 0.187, Accuracy: 95.833%\n",
      "Epoch 030: Loss: 0.185, Accuracy: 97.500%\n",
      "Epoch 031: Loss: 0.173, Accuracy: 95.833%\n",
      "Epoch 032: Loss: 0.160, Accuracy: 96.667%\n",
      "Epoch 033: Loss: 0.146, Accuracy: 97.500%\n",
      "Epoch 034: Loss: 0.144, Accuracy: 97.500%\n",
      "Epoch 035: Loss: 0.132, Accuracy: 98.333%\n",
      "Epoch 036: Loss: 0.130, Accuracy: 97.500%\n",
      "Epoch 037: Loss: 0.121, Accuracy: 95.833%\n",
      "Epoch 038: Loss: 0.119, Accuracy: 97.500%\n",
      "Epoch 039: Loss: 0.113, Accuracy: 97.500%\n",
      "Epoch 040: Loss: 0.106, Accuracy: 97.500%\n",
      "Epoch 041: Loss: 0.106, Accuracy: 98.333%\n",
      "Epoch 042: Loss: 0.100, Accuracy: 98.333%\n",
      "Epoch 043: Loss: 0.104, Accuracy: 97.500%\n",
      "Epoch 044: Loss: 0.104, Accuracy: 96.667%\n",
      "Epoch 045: Loss: 0.095, Accuracy: 98.333%\n",
      "Epoch 046: Loss: 0.097, Accuracy: 97.500%\n",
      "Epoch 047: Loss: 0.093, Accuracy: 98.333%\n",
      "Epoch 048: Loss: 0.089, Accuracy: 98.333%\n",
      "Epoch 049: Loss: 0.092, Accuracy: 97.500%\n",
      "Epoch 050: Loss: 0.081, Accuracy: 97.500%\n"
     ]
    }
   ],
   "source": [
    "model = tf.keras.Sequential([\n",
    "  tf.keras.layers.Dense(10, activation=tf.nn.relu, input_shape=(4,)),  # input shape required\n",
    "  tf.keras.layers.Dense(10, activation=tf.nn.relu),\n",
    "  tf.keras.layers.Dense(3)\n",
    "])\n",
    "\n",
    "loss_object = tf.keras.losses.SparseCategoricalCrossentropy(from_logits=True)\n",
    "optimizer = tf.keras.optimizers.Adam(learning_rate=0.01)\n",
    "\n",
    "adam_train_loss_results = []\n",
    "adam_train_accuracy_results = []\n",
    "\n",
    "num_epochs = 51\n",
    "\n",
    "for epoch in range(num_epochs):\n",
    "  epoch_loss_avg = tf.keras.metrics.Mean()\n",
    "  epoch_accuracy = tf.keras.metrics.SparseCategoricalAccuracy()\n",
    "\n",
    "  # Training loop - using batches of 32\n",
    "  for x, y in train_dataset:\n",
    "    # Optimize the model\n",
    "    loss_value, grads = grad(model, x, y)\n",
    "    optimizer.apply_gradients(zip(grads, model.trainable_variables))\n",
    "\n",
    "    # Track progress\n",
    "    epoch_loss_avg(loss_value)  # Add current batch loss\n",
    "    # Compare predicted label to actual label\n",
    "    epoch_accuracy(y, model(x))\n",
    "\n",
    "  # End epoch\n",
    "  adam_train_loss_results.append(epoch_loss_avg.result())\n",
    "  adam_train_accuracy_results.append(epoch_accuracy.result())\n",
    "\n",
    "  print(\"Epoch {:03d}: Loss: {:.3f}, Accuracy: {:.3%}\".format(epoch,\n",
    "                                                                epoch_loss_avg.result(),\n",
    "                                                                epoch_accuracy.result()))"
   ]
  },
  {
   "cell_type": "code",
   "execution_count": 22,
   "metadata": {},
   "outputs": [
    {
     "name": "stdout",
     "output_type": "stream",
     "text": [
      "Epoch 000: Loss: 1.495, Accuracy: 45.833%\n",
      "Epoch 001: Loss: 0.840, Accuracy: 65.000%\n",
      "Epoch 002: Loss: 0.532, Accuracy: 72.500%\n",
      "Epoch 003: Loss: 0.482, Accuracy: 65.000%\n",
      "Epoch 004: Loss: 0.430, Accuracy: 75.000%\n",
      "Epoch 005: Loss: 0.453, Accuracy: 70.000%\n",
      "Epoch 006: Loss: 0.438, Accuracy: 74.167%\n",
      "Epoch 007: Loss: 0.422, Accuracy: 73.333%\n",
      "Epoch 008: Loss: 0.420, Accuracy: 83.333%\n",
      "Epoch 009: Loss: 0.397, Accuracy: 83.333%\n",
      "Epoch 010: Loss: 0.407, Accuracy: 71.667%\n",
      "Epoch 011: Loss: 0.436, Accuracy: 74.167%\n",
      "Epoch 012: Loss: 0.398, Accuracy: 77.500%\n",
      "Epoch 013: Loss: 0.374, Accuracy: 84.167%\n",
      "Epoch 014: Loss: 0.367, Accuracy: 79.167%\n",
      "Epoch 015: Loss: 0.333, Accuracy: 87.500%\n",
      "Epoch 016: Loss: 0.291, Accuracy: 87.500%\n",
      "Epoch 017: Loss: 0.225, Accuracy: 93.333%\n",
      "Epoch 018: Loss: 0.214, Accuracy: 91.667%\n",
      "Epoch 019: Loss: 0.136, Accuracy: 94.167%\n",
      "Epoch 020: Loss: 0.099, Accuracy: 97.500%\n",
      "Epoch 021: Loss: 0.100, Accuracy: 95.833%\n",
      "Epoch 022: Loss: 0.090, Accuracy: 97.500%\n",
      "Epoch 023: Loss: 0.160, Accuracy: 97.500%\n",
      "Epoch 024: Loss: 0.142, Accuracy: 95.833%\n",
      "Epoch 025: Loss: 0.101, Accuracy: 97.500%\n",
      "Epoch 026: Loss: 0.090, Accuracy: 98.333%\n",
      "Epoch 027: Loss: 0.105, Accuracy: 96.667%\n",
      "Epoch 028: Loss: 0.084, Accuracy: 98.333%\n",
      "Epoch 029: Loss: 0.092, Accuracy: 97.500%\n",
      "Epoch 030: Loss: 0.068, Accuracy: 98.333%\n",
      "Epoch 031: Loss: 0.071, Accuracy: 97.500%\n",
      "Epoch 032: Loss: 0.083, Accuracy: 95.000%\n",
      "Epoch 033: Loss: 0.063, Accuracy: 97.500%\n",
      "Epoch 034: Loss: 0.151, Accuracy: 96.667%\n",
      "Epoch 035: Loss: 0.107, Accuracy: 98.333%\n",
      "Epoch 036: Loss: 0.062, Accuracy: 98.333%\n",
      "Epoch 037: Loss: 0.093, Accuracy: 98.333%\n",
      "Epoch 038: Loss: 0.064, Accuracy: 98.333%\n",
      "Epoch 039: Loss: 0.086, Accuracy: 96.667%\n",
      "Epoch 040: Loss: 0.090, Accuracy: 98.333%\n",
      "Epoch 041: Loss: 0.166, Accuracy: 93.333%\n",
      "Epoch 042: Loss: 0.101, Accuracy: 95.833%\n",
      "Epoch 043: Loss: 0.104, Accuracy: 96.667%\n",
      "Epoch 044: Loss: 0.069, Accuracy: 97.500%\n",
      "Epoch 045: Loss: 0.073, Accuracy: 98.333%\n",
      "Epoch 046: Loss: 0.071, Accuracy: 96.667%\n",
      "Epoch 047: Loss: 0.055, Accuracy: 98.333%\n",
      "Epoch 048: Loss: 0.092, Accuracy: 97.500%\n",
      "Epoch 049: Loss: 0.103, Accuracy: 95.000%\n",
      "Epoch 050: Loss: 0.213, Accuracy: 93.333%\n"
     ]
    }
   ],
   "source": [
    "model = tf.keras.Sequential([\n",
    "  tf.keras.layers.Dense(10, activation=tf.nn.relu, input_shape=(4,)),  # input shape required\n",
    "  tf.keras.layers.Dense(10, activation=tf.nn.relu),\n",
    "  tf.keras.layers.Dense(3)\n",
    "])\n",
    "\n",
    "loss_object = tf.keras.losses.SparseCategoricalCrossentropy(from_logits=True)\n",
    "optimizer = tf.keras.optimizers.Adam(learning_rate=0.1)\n",
    "\n",
    "adam_train_loss_results_lr_1_e_1 = []\n",
    "adam_train_accuracy_results_lr_1_e_1 = []\n",
    "\n",
    "num_epochs = 51\n",
    "\n",
    "for epoch in range(num_epochs):\n",
    "  epoch_loss_avg = tf.keras.metrics.Mean()\n",
    "  epoch_accuracy = tf.keras.metrics.SparseCategoricalAccuracy()\n",
    "\n",
    "  # Training loop - using batches of 32\n",
    "  for x, y in train_dataset:\n",
    "    # Optimize the model\n",
    "    loss_value, grads = grad(model, x, y)\n",
    "    optimizer.apply_gradients(zip(grads, model.trainable_variables))\n",
    "\n",
    "    # Track progress\n",
    "    epoch_loss_avg(loss_value)  # Add current batch loss\n",
    "    # Compare predicted label to actual label\n",
    "    epoch_accuracy(y, model(x))\n",
    "\n",
    "  # End epoch\n",
    "  adam_train_loss_results_lr_1_e_1.append(epoch_loss_avg.result())\n",
    "  adam_train_accuracy_results_lr_1_e_1.append(epoch_accuracy.result())\n",
    "\n",
    "  print(\"Epoch {:03d}: Loss: {:.3f}, Accuracy: {:.3%}\".format(epoch,\n",
    "                                                                epoch_loss_avg.result(),\n",
    "                                                                epoch_accuracy.result()))"
   ]
  },
  {
   "cell_type": "markdown",
   "metadata": {},
   "source": [
    "# Plotting graphs"
   ]
  },
  {
   "cell_type": "code",
   "execution_count": 31,
   "metadata": {},
   "outputs": [
    {
     "data": {
      "image/png": "[encoded data removed]",
      "text/plain": [
       "<Figure size 864x576 with 2 Axes>"
      ]
     },
     "metadata": {
      "needs_background": "light"
     },
     "output_type": "display_data"
    }
   ],
   "source": [
    "fig, axes = plt.subplots(2, sharex=True, figsize=(12, 8))\n",
    "fig.suptitle('Training Metrics')\n",
    "\n",
    "axes[0].set_ylabel(\"Loss\", fontsize=14)\n",
    "axes[0].plot(shampoo_train_loss_results, label = r\"Shampoo, $\\varepsilon = 10^{-4}$\")\n",
    "axes[0].plot(shampoo_train_loss_results_eps_1_e_3, label = r\"Shampoo, $\\varepsilon = 10^{-3}$\")\n",
    "axes[0].plot(shampoo_train_loss_results_eps_1_e_5, label = r\"Shampoo, $\\varepsilon = 10^{-5}$\")\n",
    "axes[0].plot(sgd_train_loss_results, label = r\"SGD, $\\alpha = 10^{-2}$\")\n",
    "axes[0].plot(adam_train_loss_results, label = r\"Adam, $\\alpha = 10^{-2}$\")\n",
    "axes[0].plot(adam_train_loss_results_lr_1_e_1, label = r\"Adam, $\\alpha = 10^{-1}$\")\n",
    "axes[0].grid()\n",
    "axes[0].legend()\n",
    "\n",
    "axes[1].set_ylabel(\"Accuracy\", fontsize=14)\n",
    "axes[1].set_xlabel(\"Epoch\", fontsize=14)\n",
    "axes[1].plot(shampoo_train_accuracy_results, label = r\"Shampoo, $\\varepsilon = 10^{-4}$\")\n",
    "axes[1].plot(shampoo_train_accuracy_results_eps_1_e_3, label = r\"Shampoo, $\\varepsilon = 10^{-3}$\")\n",
    "axes[1].plot(shampoo_train_accuracy_results_eps_1_e_5, label = r\"Shampoo, $\\varepsilon = 10^{-5}$\")\n",
    "axes[1].plot(sgd_train_accuracy_results, label = r\"SGD, $\\alpha = 10^{-2}$\")\n",
    "axes[1].plot(adam_train_accuracy_results, label = r\"Adam, $\\alpha = 10^{-2}$\")\n",
    "axes[1].plot(adam_train_accuracy_results_lr_1_e_1, label = r\"Adam, $\\alpha = 10^{-1}$\")\n",
    "axes[1].grid()\n",
    "axes[1].legend()\n",
    "plt.show()"
   ]
  }
 ],
 "metadata": {
  "kernelspec": {
   "display_name": "Python 3",
   "language": "python",
   "name": "python3"
  },
  "language_info": {
   "codemirror_mode": {
    "name": "ipython",
    "version": 3
   },
   "file_extension": ".py",
   "mimetype": "text/x-python",
   "name": "python",
   "nbconvert_exporter": "python",
   "pygments_lexer": "ipython3",
   "version": "3.8.0"
  }
 },
 "nbformat": 4,
 "nbformat_minor": 2
}
